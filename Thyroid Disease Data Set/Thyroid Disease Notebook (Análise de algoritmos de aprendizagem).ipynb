{
 "cells": [
  {
   "cell_type": "markdown",
   "metadata": {},
   "source": [
    "Atividade Individual 2 - *Thyroid Disease Data Set* (Análise de algoritmos de aprendizagem)\n",
    "======\n",
    "\n",
    "> **Disciplina**: IN1166 - Soluções de Minerações de Dados <br>\n",
    "> **Desenvolvedor**: Karl Vandesman de Matos Sousa <br>\n",
    "> http://github.com/karlvandesman/\n",
    "\n",
    "\n",
    "## Descrição da atividade\n",
    "A atividade deve ser executada a partir das bases de dados pré-processadas na primeira atividade individual. Considerando os classificadores vistos em sala de aula K-NN, Árvores de Decisão e Redes Neurais Artificiais MLP, encontrar as melhores configurações para cada base de dados.\n",
    "\n",
    "Será necessário construir um histórico de configurações de parâmetros de cada classificador com o propósito de apontar qual seria a melhor, com base na acurácia no conjunto de treinamento. São recomendadas no mínimo dez configurações dos parâmetros livres para cada classificador. Um gráfico de evolução da acurácia para cada classificador deve ser apresentado.\n",
    "\n",
    "Ao final também deverá ser apresentada justificativa da escolha dos melhores parâmetros para cada classificador e o seu desempenho no conjunto de teste.\n",
    "\n",
    "\\* Utilizar o random_state <br>\n",
    "\\** Entregar relatório da atividade via chamada no classroom <br>\n",
    "\\*** Entregar scripts com as melhores configurações de parâmetro para cada classificador <br>"
   ]
  },
  {
   "cell_type": "markdown",
   "metadata": {},
   "source": [
    "## Introdução\n",
    "\n",
    "Esta prática trata da aplicação de algoritmos de aprendizagem em um conjunto de dados sobre doença da tireoide (*Thyroid Disease Data Set - UCI Machine Learning Repository*). Na atividade anterior, já se havia trabalhado com esses dados, por meio de análise exploratória e pré-processamento. Dessa forma, partiu-se do código desenvolvido anteriormente para então avaliar o desempenho de três algoritmos de aprendizagem, por meio da acurácia medida.\n",
    "\n",
    "Antes de entrarmos nos algoritmos de aprendizagem selecionados, é interessante fazer algumas observações acerca da base de dados em que se está lidando. Nesse caso, temos uma base bastante desbalanceada com menos de 10% das observações com resultado positivo (presença da doença). Dessa forma, se o modelo do classificador sempre classificar uma observação como sendo negativa, já teríamos uma acurácia com um valor, a princípio, atraente, maior que 90%. Logo, nesse contexto a acurácia não seria a melhor métrica de desempenho a ser utilizada. Outras opções de métrica poderiam ser o *recall* e a f1 *score*:\n",
    "\n",
    "$recall = \\frac{Verdadeiros positivos (TP)}{Verdadeiros positivos (TP) + Falsos negativos (FN)}$\n",
    "\n",
    "$f1_{score}= \\frac{2 \\times precisao \\times recall}{precisao+recall}$\n",
    "\n",
    "Na figura a seguir ([Selecting the Right Metric for Skewed Classification Problems](https://towardsdatascience.com/selecting-the-right-metric-for-skewed-classification-problems-6e0a4a6167a7)) é vista a diferença do resultado das métricas de desempenho aumentando-se o desbalanceamento em um conjunto de dados. Logo, é visto que a acurácia vai aumentando, ao contrário do *recall*, mais adequado pra fazer a medição e se ter uma real dimensão do desempenho do código na base de dados.\n",
    "\n",
    "![imagem](skewed_data.png)"
   ]
  },
  {
   "cell_type": "markdown",
   "metadata": {},
   "source": [
    "## Importando bibliotecas"
   ]
  },
  {
   "cell_type": "code",
   "execution_count": 1,
   "metadata": {},
   "outputs": [],
   "source": [
    "import pandas as pd\n",
    "import numpy as np\n",
    "\n",
    "import matplotlib.pyplot as plt\n",
    "from sklearn.preprocessing import MinMaxScaler\n",
    "from sklearn.preprocessing import LabelEncoder\n",
    "from sklearn.decomposition import PCA\n",
    "from sklearn.model_selection import train_test_split\n",
    "\n",
    "# Algoritmos de aprendizagem\n",
    "from sklearn import tree\n",
    "from sklearn import neighbors\n",
    "from sklearn.neural_network import MLPClassifier\n",
    "\n",
    "# Grid Search para procura de hiper parâmetros\n",
    "from sklearn.model_selection import GridSearchCV"
   ]
  },
  {
   "cell_type": "markdown",
   "metadata": {},
   "source": [
    "## Carregamento do dataset e pré-processamento"
   ]
  },
  {
   "cell_type": "code",
   "execution_count": 2,
   "metadata": {},
   "outputs": [],
   "source": [
    "# As urls obtidas no site UCI\n",
    "urlHyper = \"https://archive.ics.uci.edu/ml/machine-learning-databases/thyroid-disease/allhyper.data\"\n",
    "urlHypo = \"https://archive.ics.uci.edu/ml/machine-learning-databases/thyroid-disease/allhypo.data\"\n",
    "\n",
    "# Passando o nome dos atributos\n",
    "names = ['age', 'sex', 'on thyroxine', 'query on thyroxine', 'on antithyroid medication', \n",
    "         'sick', 'pregnant', 'thyroid surgery', 'I131 treatment', 'query hypothyroid', \n",
    "         'query hyperthyroid', 'lithium', 'goitre', 'tumor', 'hypopituitary', 'psych', \n",
    "         'TSH measured', 'TSH', 'T3 measured', 'T3', 'TT4 measured', 'TT4', 'T4U measured', \n",
    "         'T4U', 'FTI measured', 'FTI', 'TBG measured', 'TBG', 'referral source', \"result\"]\n",
    "\n",
    "#Fazendo o carregamento dos dados diretamente do UCI Machine Learning          \n",
    "dataHyper = pd.read_csv(urlHyper, names=names)\n",
    "dataHypo = pd.read_csv(urlHypo, names=names)\n",
    "\n",
    "# Separando o último atributo do valor categórico e numérico\n",
    "classSeriesHyper = pd.Series(dataHyper['result']) \n",
    "classSeriesHypo = pd.Series(dataHypo['result']) \n",
    "\n",
    "resultClassHyper = []\n",
    "resultClassHypo = []\n",
    "\n",
    "for i in classSeriesHyper:\n",
    "    a, b = i.split(\".|\")\n",
    "    resultClassHyper.append(a)\n",
    "\n",
    "for i in classSeriesHypo:\n",
    "    a, b = i.split(\".|\")\n",
    "    resultClassHypo.append(a)\n",
    "\n",
    "dataset = dataHyper.drop(columns=['result'])\n",
    "\n",
    "dataset['class Hyper'] = resultClassHyper\n",
    "dataset['class Hypo'] = resultClassHypo\n",
    "\n",
    "# Como a coluna TBG só possui valores '?', então pode ser descartada\n",
    "# A coluna TBG measured também, já que só possui valores 'f', então não mais interessa\n",
    "dataset = dataset.drop(columns=['TBG', 'TBG measured'])\n",
    "\n",
    "# Substituindo os caracteres ? por NaN\n",
    "dataset = dataset.replace('?', np.NaN)\n",
    "\n",
    "# convertendo os dados com NaN para float\n",
    "dados_continuos = {'age':float, 'TSH':float, 'T3':float, 'TT4':float, 'T4U':float, 'FTI':float}\n",
    "dataset = dataset.astype(dados_continuos)\n",
    "\n",
    "# Identificando erros na idade\n",
    "idade_max = 110\n",
    "#print(dataset[dataset['age'] > 110])\n",
    "\n",
    "indice_outliersIdade = dataset.index[dataset['age'] > idade_max]\n",
    "indice_outliersTSH = dataset.index[dataset['TSH'] > 250]\n",
    "\n",
    "# Precisamos obter a média de idades sem o outlier\n",
    "mediaIdade = round((dataset[dataset['age'] < idade_max]).age.mean())\n",
    "medianaTSH = (dataset[dataset['TSH'] < 250 ]).TSH.median()\n",
    "\n",
    "#print(\"Média de idade sem outlier\", mediaIdade)\n",
    "#print(\"Mediana TSH\", medianaTSH)\n",
    "\n",
    "dataset.loc[indice_outliersIdade, 'age'] = mediaIdade\n",
    "dataset.loc[indice_outliersTSH, 'TSH'] = medianaTSH\n",
    "\n",
    "# Abordagens para substituição do NaN\n",
    "# Após as seguintes substituições, todos os atributos passarão a ter 2800 exemplos válidos (sem NaN)\n",
    "\n",
    "# Usando a média (mean) ou mediana (median) coluna por coluna\n",
    "# Somente será substituído o valor para a idade (1 valor) como padrão, o que \n",
    "#  não trará relevância na mudança da técnica aplicada \n",
    "\n",
    "datasetFull = dataset\n",
    "\n",
    "# Substituindo o valor de idade pela média (já que não possui muita variação)\n",
    "datasetFull['age'].fillna((dataset['age']).mean(), inplace=True)\n",
    "datasetFull['sex'].fillna(method='ffill', inplace=True) # substitui pelo próximo valor\n",
    "\n",
    "# Substituindo o valor das taxas de hormônio pela mediana (\"à prova de outlier\")\n",
    "datasetFull.fillna(dataset.median(), inplace=True)\n",
    "\n",
    "# É necessário converter os atributos categóricos para valores numéricos para também serem\n",
    "# considerados na análise do PCA:\n",
    "\n",
    "#Convertendo dados categóricos para dados numéricos\n",
    "le = LabelEncoder()\n",
    "datasetFullNum = datasetFull\n",
    "\n",
    "for column_name in dataset.columns:\n",
    "    if datasetFull[column_name].dtype == object:\n",
    "        datasetFullNum[column_name] = le.fit_transform(datasetFull[column_name])\n",
    "    else:\n",
    "        pass\n",
    "\n",
    "# Primeiramente, devemos normalizar os atributos numéricos que serão considerados\n",
    "minMaxScaler = MinMaxScaler(feature_range=(0, 1))\n",
    "X = datasetFullNum.values\n",
    "\n",
    "XminMax = minMaxScaler.fit_transform(X)\n",
    "\n",
    "# Subtraindo a média por atributo\n",
    "XminMaxNorm = XminMax - XminMax.mean(axis = 0)\n",
    "\n",
    "pca = PCA().fit(XminMaxNorm)\n",
    "\n",
    "#divisão de dados atributos e classe\n",
    "X = datasetFull.values[:, 0:-2]\n",
    "YHyper = dataset.values[:,-1]\n",
    "YHypo = dataset.values[:,-2]\n",
    "\n",
    "# Usando o método para fazer uma unica divisão dos dados\n",
    "XHyper_train, XHyper_test, yHyper_train, yHyper_test = train_test_split(X, YHyper, test_size = 0.25, \n",
    "                                                                        random_state = 10)\n",
    "XHypo_train, XHypo_test, yHypo_train, yHypo_test = train_test_split(X, YHypo, test_size = 0.25, \n",
    "                                                                    random_state = 10)"
   ]
  },
  {
   "cell_type": "markdown",
   "metadata": {},
   "source": [
    "## Aplicação dos algoritmos de aprendizagem\n",
    "\n",
    "Foram usados os seguintes algoritmos de aprendizagem:\n",
    "- Árvore de decisao;\n",
    "- k-Vizinhos mais proximos;\n",
    "- Redes neurais (MLP - *Multi-Layer Perceptron*).\n",
    "\n",
    "Em cada um desses algoritmos, foram selecionadas configurações de hiper parâmetros para se testar os melhores resultados de acurácia no conjunto de treino dos dados. Para realizar a buscar da melhor configuração de cada algoritmo, foi utilizada a função [*GridSearchCV()*](https://scikit-learn.org/stable/modules/generated/sklearn.model_selection.GridSearchCV.html#sklearn.model_selection.GridSearchCV) do sklearn, que faz a combinação de todas as variações de parâmetros selecionados, e a partir da divisão do conjunto de treino em treino e validação (*cross-validation*), obtêm os resultados por tentativa e erro.\n",
    "\n",
    "Após obtido a configuração com melhor resultado no conjunto de treino, esses parâmetros sao então selecionados para serem usados no conjunto de teste, e então ter-se uma acurácia final do modelo"
   ]
  },
  {
   "cell_type": "markdown",
   "metadata": {},
   "source": [
    "### 1. Árvore de decisão\n",
    "\n",
    "Na escolha das configurações, vê-se que a profundidade da árvore foi limitada no segundo caso (Hipotireoidismo). Isso significa que o aumento na altura não implicou na melhoria da divisão dos ramos. Outra implicação é uma melhor visualização dos dados e uma melhor generalização, reduzindo-se a altura, pois uma árvore muito grande significa que o modelo adaptou-se especificamente para um conjunto de dados *overfit*. A divisão sendo a *best* já é esperada, no lugar da aleatória, e o número de *features* considerada para a divisão foi o maior número dentre as opções, o que significa que todos foram importantes para serem considerados na divisão."
   ]
  },
  {
   "cell_type": "code",
   "execution_count": 3,
   "metadata": {},
   "outputs": [
    {
     "name": "stderr",
     "output_type": "stream",
     "text": [
      "/home/karlvandesman/anaconda3/lib/python3.7/site-packages/sklearn/model_selection/_split.py:652: Warning: The least populated class in y has only 1 members, which is too few. The minimum number of members in any class cannot be less than n_splits=3.\n",
      "  % (min_groups, self.n_splits)), Warning)\n"
     ]
    },
    {
     "name": "stdout",
     "output_type": "stream",
     "text": [
      "\n",
      "Melhor configuração de parâmetros e sua acurácia (Hipertireoidismo):\n",
      "{'criterion': 'entropy', 'max_depth': 6, 'max_features': 25, 'random_state': 10, 'splitter': 'best'}: 0.9928571428571429\n",
      "\n",
      "Melhor configuração de parâmetros e sua acurácia (Hipotireoidismo):\n",
      "{'criterion': 'entropy', 'max_depth': 4, 'max_features': 25, 'random_state': 10, 'splitter': 'best'}: 0.9866666666666667\n",
      "\n"
     ]
    }
   ],
   "source": [
    "paramsArvore = {\n",
    "        'criterion': ['entropy', 'gini'],\n",
    "        'splitter': ['random', 'best'],\n",
    "        'max_depth': [2, 3, 4, 5, 6],\n",
    "        'max_features': [15, 20, 25],\n",
    "        'random_state': [10]\n",
    "        }\n",
    "\n",
    "clfHyper = GridSearchCV(estimator=tree.DecisionTreeClassifier(), cv=3, \n",
    "                        param_grid=paramsArvore, scoring='accuracy', \n",
    "                        return_train_score=True)\n",
    "clfHypo = GridSearchCV(estimator=tree.DecisionTreeClassifier(), cv=3,\n",
    "                       param_grid=paramsArvore, scoring='accuracy',\n",
    "                       return_train_score=True)\n",
    "\n",
    "clfHyper = clfHyper.fit(XHyper_train, yHyper_train)\n",
    "clfHypo = clfHypo.fit(XHypo_train, yHypo_train)\n",
    "\n",
    "print()\n",
    "print(\"Melhor configuração de parâmetros e sua acurácia (Hipertireoidismo):\")\n",
    "print(clfHyper.best_params_, end=': ')\n",
    "print(clfHyper.best_score_)\n",
    "print()\n",
    "\n",
    "print(\"Melhor configuração de parâmetros e sua acurácia (Hipotireoidismo):\")\n",
    "print(clfHypo.best_params_, end=': ')\n",
    "print(clfHypo.best_score_)\n",
    "print()\n",
    "\n",
    "''' Apresentar o resultado de todos os classificadores formados\n",
    "print(\"Acurácia do grid no desenvolvimento (Hipertireoidismo):\")\n",
    "print()\n",
    "means = clfHyper.cv_results_['mean_test_score']\n",
    "stds = clfHyper.cv_results_['std_test_score']\n",
    "for mean, std, paramsArvore in zip(means, stds, clfHyper.cv_results_['params']):\n",
    "    print(\"%0.3f (+/-%0.03f) for %r\"\n",
    "          % (mean, std * 2, paramsArvore))\n",
    "print()\n",
    "'''"
   ]
  },
  {
   "cell_type": "markdown",
   "metadata": {},
   "source": [
    "### Visualização dos resultados"
   ]
  },
  {
   "cell_type": "code",
   "execution_count": 4,
   "metadata": {},
   "outputs": [
    {
     "name": "stdout",
     "output_type": "stream",
     "text": [
      "Resultado no conjunto de teste (Hiper): 100.0%\n",
      "Resultado no conjunto de teste (Hipo): 99.57142857142857%\n"
     ]
    },
    {
     "data": {
      "image/png": "[encoded data removed]",
      "text/plain": [
       "<Figure size 432x288 with 1 Axes>"
      ]
     },
     "metadata": {
      "needs_background": "light"
     },
     "output_type": "display_data"
    },
    {
     "data": {
      "image/png": "[encoded data removed]",
      "text/plain": [
       "<Figure size 432x288 with 1 Axes>"
      ]
     },
     "metadata": {
      "needs_background": "light"
     },
     "output_type": "display_data"
    }
   ],
   "source": [
    "# Visualização dos resultados ----------------------------------\n",
    "\n",
    "labelX = np.arange(1, len(clfHyper.cv_results_['mean_train_score'])+1, 1)\n",
    "\n",
    "plt.figure(0)\n",
    "# Plotar média do conjunto de treino\n",
    "plt.plot(labelX, clfHyper.cv_results_['mean_train_score'], 'gs', label='Treino')\n",
    "\n",
    "# Plotar média do conjunto de validação\n",
    "plt.plot(labelX, clfHyper.cv_results_['mean_test_score'], 'r^', label='Validação')\n",
    "\n",
    "# Plotar o melhor resultado\n",
    "plt.plot(clfHyper.best_score_, 'ro', markersize = 12, label='Melhor resultado')\n",
    "\n",
    "leg = plt.legend(fancybox=True);\n",
    "plt.xlabel('Classificadores')\n",
    "plt.ylabel('Acurácia')\n",
    "plt.title('Performance no dataset Hipertireoidismo: Árvore de decisão')\n",
    "plt.savefig('Arvore_hiper.png')\n",
    "\n",
    "plt.figure(1)\n",
    "# Plotar média do conjunto de treino\n",
    "plt.plot(labelX, clfHypo.cv_results_['mean_train_score'], 'gs', label='Treino')\n",
    "\n",
    "# Plotar média do conjunto de validação\n",
    "plt.plot(labelX, clfHypo.cv_results_['mean_test_score'], 'r^', label='Validação')\n",
    "\n",
    "# Plotar o melhor resultado\n",
    "plt.plot(clfHypo.best_score_, 'ro', markersize = 12, label='Melhor resultado')\n",
    "\n",
    "leg = plt.legend(fancybox=True);\n",
    "plt.xlabel('Classificadores')\n",
    "plt.ylabel('Acurácia')\n",
    "plt.title('Performance no dataset Hipotireoidismo: Árvore de decisão')\n",
    "plt.savefig('Arvore_hipo.png')\n",
    "\n",
    "# Uso da melhor configuração para rodar no conjunto de teste\n",
    "clfHyper = tree.DecisionTreeClassifier(**clfHyper.best_params_)\n",
    "clfHypo = tree.DecisionTreeClassifier(**clfHypo.best_params_)\n",
    "\n",
    "clfHyper = clfHyper.fit(XHyper_test, yHyper_test)\n",
    "clfHypo = clfHypo.fit(XHypo_test, yHypo_test)\n",
    "\n",
    "print(\"Resultado no conjunto de teste (Hiper): \", 100*clfHyper.score(XHyper_test, yHyper_test), \"%\", sep ='')\n",
    "print(\"Resultado no conjunto de teste (Hipo): \", 100*clfHypo.score(XHypo_test, yHypo_test), \"%\", sep='')"
   ]
  },
  {
   "cell_type": "markdown",
   "metadata": {},
   "source": [
    "### 2. k-Nearest Neighbors (k-Vizinhos mais próximos)\n",
    "\n",
    "O k-*Nearest Neighbors* ou k-Vizinhos mais próximos, é uma técnica onde não se possui processamneto na fase de treinamento. Os parâmetros variados foram o número *k* de vizinhos, o algoritmo usado para computar os vizinhos, a função peso usada na predição e o tipo de métrica de distância a ser comparada (potência da métrica de Minkowski)."
   ]
  },
  {
   "cell_type": "code",
   "execution_count": 5,
   "metadata": {},
   "outputs": [
    {
     "name": "stderr",
     "output_type": "stream",
     "text": [
      "/home/karlvandesman/anaconda3/lib/python3.7/site-packages/sklearn/model_selection/_split.py:652: Warning: The least populated class in y has only 1 members, which is too few. The minimum number of members in any class cannot be less than n_splits=3.\n",
      "  % (min_groups, self.n_splits)), Warning)\n"
     ]
    },
    {
     "name": "stdout",
     "output_type": "stream",
     "text": [
      "\n",
      "Melhor configuração de parâmetros e sua acurácia (Hipertireoidismo):\n",
      "{'algorithm': 'ball_tree', 'n_neighbors': 3, 'p': 2, 'weights': 'distance'}: 0.9495238095238095\n",
      "\n",
      "Melhor configuração de parâmetros e sua acurácia (Hipotireoidismo):\n",
      "{'algorithm': 'ball_tree', 'n_neighbors': 5, 'p': 1, 'weights': 'distance'}: 0.9795238095238096\n",
      "\n"
     ]
    }
   ],
   "source": [
    "paramsKNN = {\n",
    "        'n_neighbors': [2, 3, 4, 5, 6, 7, 8, 9, 10],\n",
    "        'algorithm': ['ball_tree', 'kd_tree', 'brute'],\n",
    "        'weights': ['distance', 'uniform'],\n",
    "        'p': [1, 2]}\n",
    "\n",
    "clfHyper = GridSearchCV(estimator=neighbors.KNeighborsClassifier(), cv=3, \n",
    "                        param_grid=paramsKNN, scoring='accuracy', \n",
    "                        return_train_score=True)\n",
    "clfHypo = GridSearchCV(estimator=neighbors.KNeighborsClassifier(), cv=3,\n",
    "                       param_grid=paramsKNN, scoring='accuracy',\n",
    "                       return_train_score=True)\n",
    "\n",
    "clfHyper = clfHyper.fit(XHyper_train, yHyper_train)\n",
    "clfHypo = clfHypo.fit(XHypo_train, yHypo_train)\n",
    "\n",
    "print()\n",
    "print(\"Melhor configuração de parâmetros e sua acurácia (Hipertireoidismo):\")\n",
    "print(clfHyper.best_params_, end=': ')\n",
    "print(clfHyper.best_score_)\n",
    "print()\n",
    "\n",
    "print(\"Melhor configuração de parâmetros e sua acurácia (Hipotireoidismo):\")\n",
    "print(clfHypo.best_params_, end=': ')\n",
    "print(clfHypo.best_score_)\n",
    "print()\n",
    "\n",
    "#print(\"Acurácia do grid no desenvolvimento (Hipertireoidismo):\")\n",
    "#print()\n",
    "#means = clfHyper.cv_results_['mean_test_score']\n",
    "#stds = clfHyper.cv_results_['std_test_score']\n",
    "#for mean, std, paramsKNN in zip(means, stds, clfHyper.cv_results_['params']):\n",
    "#    print(\"%0.3f (+/-%0.03f) for %r\"\n",
    "#          % (mean, std * 2, paramsKNN))\n",
    "#print()"
   ]
  },
  {
   "cell_type": "markdown",
   "metadata": {},
   "source": [
    "### Visualização dos resultados\n",
    "\n",
    "O algoritmo ajustou-se com valores baixos no número de vizinhos, com 3 e 5. Vale notar que se não fosse feito a divisão do treino para o conjunto de validação, simplesmente considerando-se a acurácia no conjunto de treino obteria-se acurácia maior quanto menor for o  \\textit{k}. Nesse contexto entra a importância de um conjunto de validação para o modelo ser menos enviesado."
   ]
  },
  {
   "cell_type": "code",
   "execution_count": 6,
   "metadata": {},
   "outputs": [
    {
     "name": "stdout",
     "output_type": "stream",
     "text": [
      "Resultado no conjunto de teste (Hiper): 100.0%\n",
      "Resultado no conjunto de teste (Hipo): 100.0%\n"
     ]
    },
    {
     "data": {
      "image/png": "[encoded data removed]",
      "text/plain": [
       "<Figure size 432x288 with 1 Axes>"
      ]
     },
     "metadata": {
      "needs_background": "light"
     },
     "output_type": "display_data"
    },
    {
     "data": {
      "image/png": "[encoded data removed]",
      "text/plain": [
       "<Figure size 432x288 with 1 Axes>"
      ]
     },
     "metadata": {
      "needs_background": "light"
     },
     "output_type": "display_data"
    }
   ],
   "source": [
    "labelX = np.arange(1, len(clfHyper.cv_results_['mean_train_score'])+1, 1)\n",
    "\n",
    "plt.figure(0)\n",
    "# Plotar média do conjunto de treino\n",
    "plt.plot(labelX, clfHyper.cv_results_['mean_train_score'], 'gs', label='Treino')\n",
    "\n",
    "# Plotar média do conjunto de validação\n",
    "plt.plot(labelX, clfHyper.cv_results_['mean_test_score'], 'r^', label='Validação')\n",
    "\n",
    "# Plotar o melhor resultado\n",
    "plt.plot(clfHyper.best_score_, 'ro', markersize = 12, label='Melhor resultado')\n",
    "\n",
    "leg = plt.legend(fancybox=True);\n",
    "plt.xlabel('Classificadores')\n",
    "plt.ylabel('Acurácia')\n",
    "plt.title('Performance no dataset Hipertireoidismo: k-NN')\n",
    "plt.savefig('kNN_hiper.png')\n",
    "\n",
    "plt.figure(1)\n",
    "# Plotar média do conjunto de treino\n",
    "plt.plot(labelX, clfHypo.cv_results_['mean_train_score'], 'gs', label='Treino')\n",
    "\n",
    "# Plotar média do conjunto de validação\n",
    "plt.plot(labelX, clfHypo.cv_results_['mean_test_score'], 'r^', label='Validação')\n",
    "\n",
    "# Plotar o melhor resultado\n",
    "plt.plot(clfHypo.best_score_, 'ro', markersize = 12, label='Melhor resultado')\n",
    "\n",
    "leg = plt.legend(fancybox=True);\n",
    "plt.xlabel('Classificadores')\n",
    "plt.ylabel('Acurácia')\n",
    "plt.title('Performance no dataset Hipotireoidismo: k-NN')\n",
    "plt.savefig('kNN_hipo.png')\n",
    "\n",
    "# Uso da melhor configuração para rodar no conjunto de teste\n",
    "clfHyper = neighbors.KNeighborsClassifier(**clfHyper.best_params_)\n",
    "clfHypo = neighbors.KNeighborsClassifier(**clfHypo.best_params_)\n",
    "\n",
    "clfHyper = clfHyper.fit(XHyper_test, yHyper_test)\n",
    "clfHypo = clfHypo.fit(XHypo_test, yHypo_test)\n",
    "\n",
    "print(\"Resultado no conjunto de teste (Hiper): \", 100*clfHyper.score(XHyper_test, yHyper_test), \"%\", sep ='')\n",
    "print(\"Resultado no conjunto de teste (Hipo): \", 100*clfHypo.score(XHypo_test, yHypo_test), \"%\", sep='')"
   ]
  },
  {
   "cell_type": "markdown",
   "metadata": {},
   "source": [
    "### 3. Redes Neurais (MLP)\n",
    "\n",
    "Diferente da árvore de decisão e do k-NN, na rede neural temos maior possibilidade de variação de parâmetros, devido a complexidade da arquitetura de uma rede neural. Aqui existem várias possibilidades de formato da rede, de regularização que pode resolver problemas de *overfitting*, velocidade de aprendizado, e de forma de ativação do neurônio. Um dos parâmetros que mais influenciam a resposta é a função de ativação, e como *default* temos a *ReLU*. A arquitetura da rede também influcenciará bastante."
   ]
  },
  {
   "cell_type": "code",
   "execution_count": 7,
   "metadata": {},
   "outputs": [
    {
     "name": "stderr",
     "output_type": "stream",
     "text": [
      "/home/karlvandesman/anaconda3/lib/python3.7/site-packages/sklearn/model_selection/_split.py:652: Warning: The least populated class in y has only 1 members, which is too few. The minimum number of members in any class cannot be less than n_splits=3.\n",
      "  % (min_groups, self.n_splits)), Warning)\n",
      "/home/karlvandesman/anaconda3/lib/python3.7/site-packages/sklearn/neural_network/multilayer_perceptron.py:562: ConvergenceWarning: Stochastic Optimizer: Maximum iterations (200) reached and the optimization hasn't converged yet.\n",
      "  % self.max_iter, ConvergenceWarning)\n",
      "/home/karlvandesman/anaconda3/lib/python3.7/site-packages/sklearn/neural_network/multilayer_perceptron.py:562: ConvergenceWarning: Stochastic Optimizer: Maximum iterations (200) reached and the optimization hasn't converged yet.\n",
      "  % self.max_iter, ConvergenceWarning)\n",
      "/home/karlvandesman/anaconda3/lib/python3.7/site-packages/sklearn/neural_network/multilayer_perceptron.py:562: ConvergenceWarning: Stochastic Optimizer: Maximum iterations (200) reached and the optimization hasn't converged yet.\n",
      "  % self.max_iter, ConvergenceWarning)\n",
      "/home/karlvandesman/anaconda3/lib/python3.7/site-packages/sklearn/neural_network/multilayer_perceptron.py:562: ConvergenceWarning: Stochastic Optimizer: Maximum iterations (200) reached and the optimization hasn't converged yet.\n",
      "  % self.max_iter, ConvergenceWarning)\n",
      "/home/karlvandesman/anaconda3/lib/python3.7/site-packages/sklearn/neural_network/multilayer_perceptron.py:562: ConvergenceWarning: Stochastic Optimizer: Maximum iterations (200) reached and the optimization hasn't converged yet.\n",
      "  % self.max_iter, ConvergenceWarning)\n",
      "/home/karlvandesman/anaconda3/lib/python3.7/site-packages/sklearn/neural_network/multilayer_perceptron.py:562: ConvergenceWarning: Stochastic Optimizer: Maximum iterations (200) reached and the optimization hasn't converged yet.\n",
      "  % self.max_iter, ConvergenceWarning)\n",
      "/home/karlvandesman/anaconda3/lib/python3.7/site-packages/sklearn/neural_network/multilayer_perceptron.py:562: ConvergenceWarning: Stochastic Optimizer: Maximum iterations (200) reached and the optimization hasn't converged yet.\n",
      "  % self.max_iter, ConvergenceWarning)\n",
      "/home/karlvandesman/anaconda3/lib/python3.7/site-packages/sklearn/neural_network/multilayer_perceptron.py:562: ConvergenceWarning: Stochastic Optimizer: Maximum iterations (200) reached and the optimization hasn't converged yet.\n",
      "  % self.max_iter, ConvergenceWarning)\n",
      "/home/karlvandesman/anaconda3/lib/python3.7/site-packages/sklearn/neural_network/_base.py:91: RuntimeWarning: invalid value encountered in subtract\n",
      "  tmp = X - X.max(axis=1)[:, np.newaxis]\n",
      "/home/karlvandesman/anaconda3/lib/python3.7/site-packages/sklearn/neural_network/multilayer_perceptron.py:562: ConvergenceWarning: Stochastic Optimizer: Maximum iterations (200) reached and the optimization hasn't converged yet.\n",
      "  % self.max_iter, ConvergenceWarning)\n",
      "/home/karlvandesman/anaconda3/lib/python3.7/site-packages/sklearn/neural_network/multilayer_perceptron.py:562: ConvergenceWarning: Stochastic Optimizer: Maximum iterations (200) reached and the optimization hasn't converged yet.\n",
      "  % self.max_iter, ConvergenceWarning)\n",
      "/home/karlvandesman/anaconda3/lib/python3.7/site-packages/sklearn/neural_network/_base.py:91: RuntimeWarning: invalid value encountered in subtract\n",
      "  tmp = X - X.max(axis=1)[:, np.newaxis]\n",
      "/home/karlvandesman/anaconda3/lib/python3.7/site-packages/sklearn/neural_network/multilayer_perceptron.py:562: ConvergenceWarning: Stochastic Optimizer: Maximum iterations (200) reached and the optimization hasn't converged yet.\n",
      "  % self.max_iter, ConvergenceWarning)\n",
      "/home/karlvandesman/anaconda3/lib/python3.7/site-packages/sklearn/model_selection/_search.py:841: DeprecationWarning: The default of the `iid` parameter will change from True to False in version 0.22 and will be removed in 0.24. This will change numeric results when test-set sizes are unequal.\n",
      "  DeprecationWarning)\n",
      "/home/karlvandesman/anaconda3/lib/python3.7/site-packages/sklearn/neural_network/multilayer_perceptron.py:562: ConvergenceWarning: Stochastic Optimizer: Maximum iterations (200) reached and the optimization hasn't converged yet.\n",
      "  % self.max_iter, ConvergenceWarning)\n",
      "/home/karlvandesman/anaconda3/lib/python3.7/site-packages/sklearn/neural_network/multilayer_perceptron.py:562: ConvergenceWarning: Stochastic Optimizer: Maximum iterations (200) reached and the optimization hasn't converged yet.\n",
      "  % self.max_iter, ConvergenceWarning)\n",
      "/home/karlvandesman/anaconda3/lib/python3.7/site-packages/sklearn/neural_network/multilayer_perceptron.py:562: ConvergenceWarning: Stochastic Optimizer: Maximum iterations (200) reached and the optimization hasn't converged yet.\n",
      "  % self.max_iter, ConvergenceWarning)\n",
      "/home/karlvandesman/anaconda3/lib/python3.7/site-packages/sklearn/neural_network/_base.py:91: RuntimeWarning: invalid value encountered in subtract\n",
      "  tmp = X - X.max(axis=1)[:, np.newaxis]\n",
      "/home/karlvandesman/anaconda3/lib/python3.7/site-packages/sklearn/neural_network/multilayer_perceptron.py:562: ConvergenceWarning: Stochastic Optimizer: Maximum iterations (200) reached and the optimization hasn't converged yet.\n",
      "  % self.max_iter, ConvergenceWarning)\n",
      "/home/karlvandesman/anaconda3/lib/python3.7/site-packages/sklearn/neural_network/_base.py:91: RuntimeWarning: invalid value encountered in subtract\n",
      "  tmp = X - X.max(axis=1)[:, np.newaxis]\n",
      "/home/karlvandesman/anaconda3/lib/python3.7/site-packages/sklearn/neural_network/multilayer_perceptron.py:562: ConvergenceWarning: Stochastic Optimizer: Maximum iterations (200) reached and the optimization hasn't converged yet.\n",
      "  % self.max_iter, ConvergenceWarning)\n",
      "/home/karlvandesman/anaconda3/lib/python3.7/site-packages/sklearn/neural_network/_base.py:91: RuntimeWarning: invalid value encountered in subtract\n",
      "  tmp = X - X.max(axis=1)[:, np.newaxis]\n",
      "/home/karlvandesman/anaconda3/lib/python3.7/site-packages/sklearn/neural_network/multilayer_perceptron.py:562: ConvergenceWarning: Stochastic Optimizer: Maximum iterations (200) reached and the optimization hasn't converged yet.\n",
      "  % self.max_iter, ConvergenceWarning)\n",
      "/home/karlvandesman/anaconda3/lib/python3.7/site-packages/sklearn/neural_network/_base.py:91: RuntimeWarning: invalid value encountered in subtract\n",
      "  tmp = X - X.max(axis=1)[:, np.newaxis]\n",
      "/home/karlvandesman/anaconda3/lib/python3.7/site-packages/sklearn/neural_network/multilayer_perceptron.py:562: ConvergenceWarning: Stochastic Optimizer: Maximum iterations (200) reached and the optimization hasn't converged yet.\n",
      "  % self.max_iter, ConvergenceWarning)\n"
     ]
    },
    {
     "name": "stdout",
     "output_type": "stream",
     "text": [
      "\n",
      "Melhor configuração de parâmetros e sua acurácia (Hipertireoidismo):\n",
      "{'activation': 'tanh', 'alpha': 1, 'hidden_layer_sizes': (3, 3), 'learning_rate_init': 0.1, 'max_iter': 200, 'random_state': 10, 'solver': 'lbfgs'}: 0.9680952380952381\n",
      "\n",
      "Melhor configuração de parâmetros e sua acurácia (Hipotireoidismo):\n",
      "{'activation': 'tanh', 'alpha': 0.1, 'hidden_layer_sizes': [10], 'learning_rate_init': 0.1, 'max_iter': 200, 'random_state': 10, 'solver': 'lbfgs'}: 0.9814285714285714\n",
      "\n"
     ]
    },
    {
     "name": "stderr",
     "output_type": "stream",
     "text": [
      "/home/karlvandesman/anaconda3/lib/python3.7/site-packages/sklearn/model_selection/_search.py:841: DeprecationWarning: The default of the `iid` parameter will change from True to False in version 0.22 and will be removed in 0.24. This will change numeric results when test-set sizes are unequal.\n",
      "  DeprecationWarning)\n"
     ]
    }
   ],
   "source": [
    "paramsMLP = {\n",
    "        'hidden_layer_sizes': [[(10)], (3, 3)],\n",
    "        'activation': ['relu', 'tanh'],\n",
    "        'solver': ['adam', 'lbfgs', 'sgd'],\n",
    "        'alpha': [0.01, 0.1, 1, 10],\n",
    "        'learning_rate_init': [0.1, 1],\n",
    "        'max_iter': [200],\n",
    "        'random_state': [10]}\n",
    "\n",
    "clfHyper = GridSearchCV(estimator=MLPClassifier(), cv=3, \n",
    "                        param_grid=paramsMLP, scoring='accuracy', \n",
    "                        return_train_score=True)\n",
    "clfHypo = GridSearchCV(estimator=MLPClassifier(), cv=3,\n",
    "                       param_grid=paramsMLP, scoring='accuracy',\n",
    "                       return_train_score=True)\n",
    "\n",
    "clfHyper = clfHyper.fit(XHyper_train, yHyper_train)\n",
    "clfHypo = clfHypo.fit(XHypo_train, yHypo_train)\n",
    "\n",
    "print()\n",
    "print(\"Melhor configuração de parâmetros e sua acurácia (Hipertireoidismo):\")\n",
    "print(clfHyper.best_params_, end=': ')\n",
    "print(clfHyper.best_score_)\n",
    "print()\n",
    "\n",
    "print(\"Melhor configuração de parâmetros e sua acurácia (Hipotireoidismo):\")\n",
    "print(clfHypo.best_params_, end=': ')\n",
    "print(clfHypo.best_score_)\n",
    "print()\n",
    "\n",
    "#print(\"Acurácia do grid no desenvolvimento (Hipertireoidismo):\")\n",
    "#print()\n",
    "#means = clfHyper.cv_results_['mean_test_score']\n",
    "#stds = clfHyper.cv_results_['std_test_score']\n",
    "#for mean, std, paramsMLP in zip(means, stds, clfHyper.cv_results_['params']):\n",
    "#    print(\"%0.3f (+/-%0.03f) for %r\"\n",
    "#          % (mean, std * 2, paramsMLP))\n",
    "#print()"
   ]
  },
  {
   "cell_type": "markdown",
   "metadata": {},
   "source": [
    "### Visualização dos resultados\n",
    "\n",
    "A justificativa para a configuração da arquitetura em uma rede neural é mais complexa, pois esta funciona como uma caixa preta. O melhor valor para o parâmetro de taxa de aprendizado é obtido por tentativa e erro. Já o *alpha*, pode-se ter alguma previsão pois ele é o que estará penalizando, servindo como termo de regularização. Ou seja, se o modelo está com *overfitting*, aumenta-se a regularização para suavização e melhor ajuste do modelo."
   ]
  },
  {
   "cell_type": "code",
   "execution_count": 8,
   "metadata": {},
   "outputs": [
    {
     "name": "stdout",
     "output_type": "stream",
     "text": [
      "Resultado no conjunto de teste (Hiper): 95.14285714285714%\n",
      "Resultado no conjunto de teste (Hipo): 99.0%\n"
     ]
    },
    {
     "data": {
      "image/png": "[encoded data removed]",
      "text/plain": [
       "<Figure size 432x288 with 1 Axes>"
      ]
     },
     "metadata": {
      "needs_background": "light"
     },
     "output_type": "display_data"
    },
    {
     "data": {
      "image/png": "[encoded data removed]",
      "text/plain": [
       "<Figure size 432x288 with 1 Axes>"
      ]
     },
     "metadata": {
      "needs_background": "light"
     },
     "output_type": "display_data"
    }
   ],
   "source": [
    "# Visualização dos resultados ----------------------------------\n",
    "\n",
    "labelX = np.arange(1, len(clfHyper.cv_results_['mean_train_score'])+1, 1)\n",
    "\n",
    "plt.figure(0)\n",
    "# Plotar média do conjunto de treino\n",
    "plt.plot(labelX, clfHyper.cv_results_['mean_train_score'], 'gs', label='Treino')\n",
    "\n",
    "# Plotar média do conjunto de validação\n",
    "plt.plot(labelX, clfHyper.cv_results_['mean_test_score'], 'r^', label='Validação')\n",
    "\n",
    "# Plotar o melhor resultado\n",
    "plt.plot(clfHyper.best_score_, 'ro', markersize = 12, label='Melhor resultado')\n",
    "\n",
    "leg = plt.legend(fancybox=True);\n",
    "plt.xlabel('Classificadores')\n",
    "plt.ylabel('Acurácia')\n",
    "plt.title('Performance no dataset Hipertireoidismo: MLP')\n",
    "plt.savefig('MLP_hiper.png')\n",
    "\n",
    "plt.figure(1)\n",
    "# Plotar média do conjunto de treino\n",
    "plt.plot(labelX, clfHypo.cv_results_['mean_train_score'], 'gs', label='Treino')\n",
    "\n",
    "# Plotar média do conjunto de validação\n",
    "plt.plot(labelX, clfHypo.cv_results_['mean_test_score'], 'r^', label='Validação')\n",
    "\n",
    "# Plotar o melhor resultado\n",
    "plt.plot(clfHypo.best_score_, 'ro', markersize = 12, label='Melhor resultado')\n",
    "\n",
    "leg = plt.legend(fancybox=True);\n",
    "plt.xlabel('Classificadores')\n",
    "plt.ylabel('Acurácia')\n",
    "plt.title('Performance no dataset Hipotireoidismo: MLP')\n",
    "plt.savefig('MLP_hipo.png')\n",
    "\n",
    "# Uso da melhor configuração para rodar no conjunto de teste\n",
    "clfHyper = MLPClassifier(**clfHyper.best_params_)\n",
    "clfHypo = MLPClassifier(**clfHypo.best_params_)\n",
    "\n",
    "clfHyper = clfHyper.fit(XHyper_test, yHyper_test)\n",
    "clfHypo = clfHypo.fit(XHypo_test, yHypo_test)\n",
    "\n",
    "print(\"Resultado no conjunto de teste (Hiper): \", 100*clfHyper.score(XHyper_test, yHyper_test), \"%\", sep ='')\n",
    "print(\"Resultado no conjunto de teste (Hipo): \", 100*clfHypo.score(XHypo_test, yHypo_test), \"%\", sep='')"
   ]
  },
  {
   "cell_type": "markdown",
   "metadata": {},
   "source": [
    "## Conclusão\n",
    "\n",
    "Como descrito anteriormente, a dificuldade na avaliação dos algoritmos de aprendizagem está no mal uso da métrica de acurácia para uma base de dados bastante desbalanceada. Nesse contexto, tem-se um resultado facilmente chegando próximo de 100%, mesmo com grande variação dos parâmetros.\n",
    "    \n",
    "Outra questão está na divisão do conjunto de treino para validação cruzada na função *GridSearchCV()*. Como algumas classes possuem poucas observações (a menor possui somente um), o próprio algoritmo gera um aviso de que o número de divisões é maior que o número de exemplares de alguma classe. Isso gera conjuntos de separação onde não há representação da classe, sendo portanto, impossível para o classificador prever aquela classe no conjunto de validação."
   ]
  }
 ],
 "metadata": {
  "kernelspec": {
   "display_name": "Python 3",
   "language": "python",
   "name": "python3"
  },
  "language_info": {
   "codemirror_mode": {
    "name": "ipython",
    "version": 3
   },
   "file_extension": ".py",
   "mimetype": "text/x-python",
   "name": "python",
   "nbconvert_exporter": "python",
   "pygments_lexer": "ipython3",
   "version": "3.7.3"
  }
 },
 "nbformat": 4,
 "nbformat_minor": 2
}
